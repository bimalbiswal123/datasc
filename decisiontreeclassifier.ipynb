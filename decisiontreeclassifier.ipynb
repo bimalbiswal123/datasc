{
 "cells": [
  {
   "cell_type": "code",
   "execution_count": 10,
   "metadata": {},
   "outputs": [
    {
     "name": "stdout",
     "output_type": "stream",
     "text": [
      "[1.         0.93333333 1.         0.93333333 0.93333333 0.86666667\n",
      " 0.93333333 0.93333333 1.         1.        ]\n"
     ]
    }
   ],
   "source": [
    "from sklearn.datasets import load_boston\n",
    "from sklearn.model_selection import cross_val_score\n",
    "from sklearn.tree import DecisionTreeClassifier\n",
    "\n",
    "import pandas as pd\n",
    "\n",
    "ir = pd.read_csv('iris.csv')\n",
    "\n",
    "y = ir['species'].astype(str)\n",
    "x = ir[list(ir.columns)[:-1]]\n",
    "\n",
    "boston = load_boston()\n",
    "reg = DecisionTreeClassifier()\n",
    "#print (cross_val_score(reg, boston.data, boston.target, cv=10))\n",
    "#print (cross_val_score(reg, x, y,cv=10))"
   ]
  },
  {
   "cell_type": "code",
   "execution_count": 12,
   "metadata": {},
   "outputs": [],
   "source": [
    "dt = reg.fit(x,y)"
   ]
  },
  {
   "cell_type": "code",
   "execution_count": 13,
   "metadata": {},
   "outputs": [
    {
     "name": "stdout",
     "output_type": "stream",
     "text": [
      "DecisionTreeClassifier(class_weight=None, criterion='gini', max_depth=None,\n",
      "            max_features=None, max_leaf_nodes=None,\n",
      "            min_impurity_decrease=0.0, min_impurity_split=None,\n",
      "            min_samples_leaf=1, min_samples_split=2,\n",
      "            min_weight_fraction_leaf=0.0, presort=False, random_state=None,\n",
      "            splitter='best')\n"
     ]
    }
   ],
   "source": [
    "print(dt)"
   ]
  },
  {
   "cell_type": "code",
   "execution_count": 14,
   "metadata": {},
   "outputs": [
    {
     "data": {
      "text/plain": [
       "<sklearn.tree._tree.Tree at 0x9315100>"
      ]
     },
     "execution_count": 14,
     "metadata": {},
     "output_type": "execute_result"
    }
   ],
   "source": [
    "dt.tree_"
   ]
  },
  {
   "cell_type": "code",
   "execution_count": 15,
   "metadata": {},
   "outputs": [],
   "source": [
    "from sklearn import tree\n",
    "with open('visual.svg', 'w') as fp:\n",
    "    tree.export_graphviz(dt, out_file=fp, class_names=['Sentosa', 'Virginica', 'Versicol'])"
   ]
  },
  {
   "cell_type": "code",
   "execution_count": 16,
   "metadata": {},
   "outputs": [
    {
     "data": {
      "text/html": [
       "<div>\n",
       "<style scoped>\n",
       "    .dataframe tbody tr th:only-of-type {\n",
       "        vertical-align: middle;\n",
       "    }\n",
       "\n",
       "    .dataframe tbody tr th {\n",
       "        vertical-align: top;\n",
       "    }\n",
       "\n",
       "    .dataframe thead th {\n",
       "        text-align: right;\n",
       "    }\n",
       "</style>\n",
       "<table border=\"1\" class=\"dataframe\">\n",
       "  <thead>\n",
       "    <tr style=\"text-align: right;\">\n",
       "      <th></th>\n",
       "      <th>Account Length</th>\n",
       "      <th>VMail Message</th>\n",
       "      <th>Day Mins</th>\n",
       "      <th>Eve Mins</th>\n",
       "      <th>Night Mins</th>\n",
       "      <th>Intl Mins</th>\n",
       "      <th>CustServ Calls</th>\n",
       "      <th>Churn</th>\n",
       "      <th>Int'l Plan</th>\n",
       "      <th>VMail Plan</th>\n",
       "      <th>...</th>\n",
       "      <th>Day Charge</th>\n",
       "      <th>Eve Calls</th>\n",
       "      <th>Eve Charge</th>\n",
       "      <th>Night Calls</th>\n",
       "      <th>Night Charge</th>\n",
       "      <th>Intl Calls</th>\n",
       "      <th>Intl Charge</th>\n",
       "      <th>State</th>\n",
       "      <th>Area Code</th>\n",
       "      <th>Phone</th>\n",
       "    </tr>\n",
       "  </thead>\n",
       "  <tbody>\n",
       "    <tr>\n",
       "      <th>0</th>\n",
       "      <td>128</td>\n",
       "      <td>25</td>\n",
       "      <td>265.1</td>\n",
       "      <td>197.4</td>\n",
       "      <td>244.7</td>\n",
       "      <td>10.0</td>\n",
       "      <td>1</td>\n",
       "      <td>0</td>\n",
       "      <td>0</td>\n",
       "      <td>1</td>\n",
       "      <td>...</td>\n",
       "      <td>45.07</td>\n",
       "      <td>99</td>\n",
       "      <td>16.78</td>\n",
       "      <td>91</td>\n",
       "      <td>11.01</td>\n",
       "      <td>3</td>\n",
       "      <td>2.70</td>\n",
       "      <td>KS</td>\n",
       "      <td>415</td>\n",
       "      <td>382-4657</td>\n",
       "    </tr>\n",
       "    <tr>\n",
       "      <th>1</th>\n",
       "      <td>107</td>\n",
       "      <td>26</td>\n",
       "      <td>161.6</td>\n",
       "      <td>195.5</td>\n",
       "      <td>254.4</td>\n",
       "      <td>13.7</td>\n",
       "      <td>1</td>\n",
       "      <td>0</td>\n",
       "      <td>0</td>\n",
       "      <td>1</td>\n",
       "      <td>...</td>\n",
       "      <td>27.47</td>\n",
       "      <td>103</td>\n",
       "      <td>16.62</td>\n",
       "      <td>103</td>\n",
       "      <td>11.45</td>\n",
       "      <td>3</td>\n",
       "      <td>3.70</td>\n",
       "      <td>OH</td>\n",
       "      <td>415</td>\n",
       "      <td>371-7191</td>\n",
       "    </tr>\n",
       "    <tr>\n",
       "      <th>2</th>\n",
       "      <td>137</td>\n",
       "      <td>0</td>\n",
       "      <td>243.4</td>\n",
       "      <td>121.2</td>\n",
       "      <td>162.6</td>\n",
       "      <td>12.2</td>\n",
       "      <td>0</td>\n",
       "      <td>0</td>\n",
       "      <td>0</td>\n",
       "      <td>0</td>\n",
       "      <td>...</td>\n",
       "      <td>41.38</td>\n",
       "      <td>110</td>\n",
       "      <td>10.30</td>\n",
       "      <td>104</td>\n",
       "      <td>7.32</td>\n",
       "      <td>5</td>\n",
       "      <td>3.29</td>\n",
       "      <td>NJ</td>\n",
       "      <td>415</td>\n",
       "      <td>358-1921</td>\n",
       "    </tr>\n",
       "    <tr>\n",
       "      <th>3</th>\n",
       "      <td>84</td>\n",
       "      <td>0</td>\n",
       "      <td>299.4</td>\n",
       "      <td>61.9</td>\n",
       "      <td>196.9</td>\n",
       "      <td>6.6</td>\n",
       "      <td>2</td>\n",
       "      <td>0</td>\n",
       "      <td>1</td>\n",
       "      <td>0</td>\n",
       "      <td>...</td>\n",
       "      <td>50.90</td>\n",
       "      <td>88</td>\n",
       "      <td>5.26</td>\n",
       "      <td>89</td>\n",
       "      <td>8.86</td>\n",
       "      <td>7</td>\n",
       "      <td>1.78</td>\n",
       "      <td>OH</td>\n",
       "      <td>408</td>\n",
       "      <td>375-9999</td>\n",
       "    </tr>\n",
       "    <tr>\n",
       "      <th>4</th>\n",
       "      <td>75</td>\n",
       "      <td>0</td>\n",
       "      <td>166.7</td>\n",
       "      <td>148.3</td>\n",
       "      <td>186.9</td>\n",
       "      <td>10.1</td>\n",
       "      <td>3</td>\n",
       "      <td>0</td>\n",
       "      <td>1</td>\n",
       "      <td>0</td>\n",
       "      <td>...</td>\n",
       "      <td>28.34</td>\n",
       "      <td>122</td>\n",
       "      <td>12.61</td>\n",
       "      <td>121</td>\n",
       "      <td>8.41</td>\n",
       "      <td>3</td>\n",
       "      <td>2.73</td>\n",
       "      <td>OK</td>\n",
       "      <td>415</td>\n",
       "      <td>330-6626</td>\n",
       "    </tr>\n",
       "  </tbody>\n",
       "</table>\n",
       "<p>5 rows × 21 columns</p>\n",
       "</div>"
      ],
      "text/plain": [
       "   Account Length  VMail Message  Day Mins  Eve Mins  Night Mins  Intl Mins  \\\n",
       "0             128             25     265.1     197.4       244.7       10.0   \n",
       "1             107             26     161.6     195.5       254.4       13.7   \n",
       "2             137              0     243.4     121.2       162.6       12.2   \n",
       "3              84              0     299.4      61.9       196.9        6.6   \n",
       "4              75              0     166.7     148.3       186.9       10.1   \n",
       "\n",
       "   CustServ Calls  Churn  Int'l Plan  VMail Plan    ...     Day Charge  \\\n",
       "0               1      0           0           1    ...          45.07   \n",
       "1               1      0           0           1    ...          27.47   \n",
       "2               0      0           0           0    ...          41.38   \n",
       "3               2      0           1           0    ...          50.90   \n",
       "4               3      0           1           0    ...          28.34   \n",
       "\n",
       "   Eve Calls  Eve Charge  Night Calls  Night Charge  Intl Calls  Intl Charge  \\\n",
       "0         99       16.78           91         11.01           3         2.70   \n",
       "1        103       16.62          103         11.45           3         3.70   \n",
       "2        110       10.30          104          7.32           5         3.29   \n",
       "3         88        5.26           89          8.86           7         1.78   \n",
       "4        122       12.61          121          8.41           3         2.73   \n",
       "\n",
       "   State Area Code     Phone  \n",
       "0     KS       415  382-4657  \n",
       "1     OH       415  371-7191  \n",
       "2     NJ       415  358-1921  \n",
       "3     OH       408  375-9999  \n",
       "4     OK       415  330-6626  \n",
       "\n",
       "[5 rows x 21 columns]"
      ]
     },
     "metadata": {},
     "output_type": "display_data"
    }
   ],
   "source": [
    "import pandas as pd\n",
    "from sklearn.model_selection import train_test_split\n",
    "from sklearn.ensemble import RandomForestClassifier\n",
    "from sklearn.metrics import confusion_matrix\n",
    "from sklearn.metrics import roc_curve\n",
    "import matplotlib\n",
    "import matplotlib.pyplot as plt\n",
    "from IPython.display import display, HTML\n",
    "\n",
    "df = pd.read_excel('Churn.xls',sheet_name='churn')\n",
    "display(df.head(5))"
   ]
  },
  {
   "cell_type": "code",
   "execution_count": 17,
   "metadata": {},
   "outputs": [
    {
     "data": {
      "text/plain": [
       "Account Length      int64\n",
       "VMail Message       int64\n",
       "Day Mins          float64\n",
       "Eve Mins          float64\n",
       "Night Mins        float64\n",
       "Intl Mins         float64\n",
       "CustServ Calls      int64\n",
       "Churn               int64\n",
       "Int'l Plan          int64\n",
       "VMail Plan          int64\n",
       "Day Calls           int64\n",
       "Day Charge        float64\n",
       "Eve Calls           int64\n",
       "Eve Charge        float64\n",
       "Night Calls         int64\n",
       "Night Charge      float64\n",
       "Intl Calls          int64\n",
       "Intl Charge       float64\n",
       "State              object\n",
       "Area Code           int64\n",
       "Phone              object\n",
       "dtype: object"
      ]
     },
     "execution_count": 17,
     "metadata": {},
     "output_type": "execute_result"
    }
   ],
   "source": [
    "df.dtypes"
   ]
  },
  {
   "cell_type": "code",
   "execution_count": 18,
   "metadata": {},
   "outputs": [],
   "source": [
    "df = df.drop([\"Phone\", 'Area Code', 'State'], axis=1)\n",
    "features = df.drop(['Churn'], axis=1).columns"
   ]
  },
  {
   "cell_type": "code",
   "execution_count": 20,
   "metadata": {},
   "outputs": [
    {
     "name": "stdout",
     "output_type": "stream",
     "text": [
      "Index(['Account Length', 'VMail Message', 'Day Mins', 'Eve Mins', 'Night Mins',\n",
      "       'Intl Mins', 'CustServ Calls', 'Int'l Plan', 'VMail Plan', 'Day Calls',\n",
      "       'Day Charge', 'Eve Calls', 'Eve Charge', 'Night Calls', 'Night Charge',\n",
      "       'Intl Calls', 'Intl Charge'],\n",
      "      dtype='object')\n"
     ]
    }
   ],
   "source": [
    "print (features)"
   ]
  },
  {
   "cell_type": "code",
   "execution_count": 22,
   "metadata": {},
   "outputs": [
    {
     "name": "stdout",
     "output_type": "stream",
     "text": [
      "[1 0 0 0 1 0 0 0 0 0 0 0 0 0 0 0 0 0 0 0 0 0 0 0 1 0 0 0 0 0 0 0 0 0 0 0 0\n",
      " 0 0 0 0 0 0 0 0 0 0 0 0 0 0 0 0 0 0 0 0 1 0 1 0 0 0 0 0 0 0 0 0 0 0 0 0 0\n",
      " 0 0 0 0 0 0 0 0 0 0 1 0 0 0 0 0 0 0 0 0 0 0 0 1 0 0 1 0 0 0 0 0 0 0 0 0 0\n",
      " 0 1 0 0 1 0 0 0 0 0 0 0 0 0 0 0 0 0 0 0 0 0 1 0 0 0 0 0 0 0 0 0 0 0 0 0 0\n",
      " 0 0 0 0 0 0 0 0 0 0 0 0 0 0 0 0 0 0 0 0 0 0 0 0 0 0 0 0 0 0 0 0 0 0 0 0 0\n",
      " 0 0 0 0 0 0 0 0 0 0 0 0 0 1 0 0 1 0 1 0 1 0 1 0 0 0 0 0 0 1 0 0 0 0 1 0 0\n",
      " 0 0 1 0 0 0 0 0 0 0 0 0 1 0 0 0 0 0 0 0 0 0 0 0 1 1 0 0 0 0 0 0 0 1 0 1 1\n",
      " 0 0 0 0 0 0 0 0 0 0 0 0 1 0 0 1 0 0 0 0 0 1 0 0 0 0 0 0 0 1 0 0 0 1 0 0 0\n",
      " 0 0 0 0 0 0 0 1 0 0 0 0 0 0 0 0 0 0 1 0 0 0 0 0 0 0 0 0 0 0 0 0 0 0 0 0 0\n",
      " 1 0 0 0 0 1 1 0 0 0 0 0 0 0 0 0 0 0 0 0 0 1 0 0 0 0 0 0 0 0 0 0 0 0 0 0 0\n",
      " 0 0 0 0 0 0 1 0 0 0 0 0 0 0 1 0 0 0 1 0 0 0 0 0 0 0 0 0 0 0 0 0 0 0 0 0 1\n",
      " 0 0 0 0 0 0 0 0 0 1 0 0 0 0 0 0 0 0 0 0 0 0 0 0 0 0 0 0 0 0 0 1 0 0 0 0 0\n",
      " 0 0 0 0 0 0 0 0 0 0 0 0 0 0 1 0 0 0 0 0 0 0 0 0 0 0 0 0 0 0 0 0 0 0 0 0 0\n",
      " 0 0 1 0 0 0 0 1 0 0 0 0 0 0 0 0 0 0 1 0 0 0 0 1 0 0 0 0 0 0 0 1 0 0 0 0 1\n",
      " 0 0 0 0 0 0 1 0 0 0 0 0 0 0 0 0 0 0 0 0 0 0 0 0 0 0 0 0 0 0 0 0 0 0 0 0 1\n",
      " 0 0 0 0 0 0 0 0 0 0 0 1 0 0 1 1 0 0 0 0 0 0 0 1 0 0 0 0 0 0 0 0 0 0 0 0 0\n",
      " 0 0 1 0 0 0 0 1 0 0 0 0 0 0 0 0 1 0 1 0 0 0 0 1 0 1 1 0 0 0 0 0 0 0 0 0 0\n",
      " 0 0 0 0 0 0 1 0 0 0 0 0 0 0 0 0 0 0 0 0 0 0 0 0 0 0 0 0 0 0 0 0 0 0 0 0 0\n",
      " 0 0 0 0 0 0 0 0 0 1 1 0 0 0 0 1 1 0 0 1 0 0 0 0 0 0 0 0 0 0 1 0 0 1 1 0 0\n",
      " 1 0 0 1 0 0 0 0 0 1 0 0 0 0 0 0 0 0 0 0 0 0 0 0 0 0 0 0 0 1 0 0 0 0 0 0 0\n",
      " 0 0 0 0 0 1 0 0 0 0 0 0 0 0 0 0 1 0 0 1 0 0 0 0 0 0 0 0 0 0 0 0 0 0 0 0 0\n",
      " 0 0 1 0 0 0 1 0 0 0 0 0 0 1 0 0 0 0 0 1 0 0 0 1 0 1 0 0 0 0 0 0 0 1 0 0 0\n",
      " 0 0 0 1 1 0 0 0 0 0 0 0 0 0 0 0 0 0 1 0]\n",
      "[[0.13958099 0.86041901]\n",
      " [0.97461758 0.02538242]\n",
      " [0.98306022 0.01693978]\n",
      " ...\n",
      " [0.9795389  0.0204611 ]\n",
      " [0.11111594 0.88888406]\n",
      " [0.96151718 0.03848282]]\n"
     ]
    }
   ],
   "source": [
    "df_train, df_test = train_test_split(df, test_size=0.25)\n",
    "model = RandomForestClassifier(max_depth=10, min_samples_split=2,\n",
    "                              n_estimators=100, random_state=1)\n",
    "model.fit(df_train[features], df_train['Churn'])\n",
    "\n",
    "preds = model.predict(df_test[features])\n",
    "probs = model.predict_proba(df_test[features])\n",
    "\n",
    "print(preds)\n",
    "print(probs)"
   ]
  },
  {
   "cell_type": "code",
   "execution_count": 23,
   "metadata": {},
   "outputs": [
    {
     "name": "stdout",
     "output_type": "stream",
     "text": [
      "accuracy:  0.9496402877697842\n"
     ]
    }
   ],
   "source": [
    "from sklearn import metrics\n",
    "print (\"accuracy: \", metrics.accuracy_score(df_test['Churn'],preds))"
   ]
  },
  {
   "cell_type": "code",
   "execution_count": 24,
   "metadata": {},
   "outputs": [
    {
     "name": "stdout",
     "output_type": "stream",
     "text": [
      "             precision    recall  f1-score   support\n",
      "\n",
      "          0       0.96      0.99      0.97       722\n",
      "          1       0.90      0.71      0.79       112\n",
      "\n",
      "avg / total       0.95      0.95      0.95       834\n",
      "\n"
     ]
    }
   ],
   "source": [
    "print(metrics.classification_report(df_test['Churn'],preds))"
   ]
  },
  {
   "cell_type": "code",
   "execution_count": 25,
   "metadata": {},
   "outputs": [
    {
     "name": "stdout",
     "output_type": "stream",
     "text": [
      "[[713   9]\n",
      " [ 33  79]]\n"
     ]
    }
   ],
   "source": [
    "print(metrics.confusion_matrix(df_test['Churn'],preds))"
   ]
  },
  {
   "cell_type": "code",
   "execution_count": 26,
   "metadata": {},
   "outputs": [
    {
     "data": {
      "text/plain": [
       "(3333, 18)"
      ]
     },
     "execution_count": 26,
     "metadata": {},
     "output_type": "execute_result"
    }
   ],
   "source": [
    "df.shape"
   ]
  },
  {
   "cell_type": "code",
   "execution_count": 37,
   "metadata": {},
   "outputs": [
    {
     "ename": "TypeError",
     "evalue": "'DataFrame' object is not callable",
     "output_type": "error",
     "traceback": [
      "\u001b[1;31m---------------------------------------------------------------------------\u001b[0m",
      "\u001b[1;31mTypeError\u001b[0m                                 Traceback (most recent call last)",
      "\u001b[1;32m<ipython-input-37-fc5a86e31aee>\u001b[0m in \u001b[0;36m<module>\u001b[1;34m()\u001b[0m\n\u001b[0;32m      1\u001b[0m \u001b[0mget_ipython\u001b[0m\u001b[1;33m(\u001b[0m\u001b[1;33m)\u001b[0m\u001b[1;33m.\u001b[0m\u001b[0mmagic\u001b[0m\u001b[1;33m(\u001b[0m\u001b[1;34m'matplotlib inline'\u001b[0m\u001b[1;33m)\u001b[0m\u001b[1;33m\u001b[0m\u001b[0m\n\u001b[0;32m      2\u001b[0m confusion_matrix = pd.DataFrame(\n\u001b[1;32m----> 3\u001b[1;33m     \u001b[0mconfusion_matrix\u001b[0m\u001b[1;33m(\u001b[0m\u001b[0mdf_test\u001b[0m\u001b[1;33m[\u001b[0m\u001b[1;34m\"Churn\"\u001b[0m\u001b[1;33m]\u001b[0m\u001b[1;33m,\u001b[0m \u001b[0mpreds\u001b[0m\u001b[1;33m)\u001b[0m\u001b[1;33m,\u001b[0m\u001b[1;33m\u001b[0m\u001b[0m\n\u001b[0m\u001b[0;32m      4\u001b[0m     \u001b[0mcolumns\u001b[0m\u001b[1;33m=\u001b[0m\u001b[1;33m[\u001b[0m\u001b[1;34m\"Predicted False\"\u001b[0m\u001b[1;33m,\u001b[0m \u001b[1;34m\"Predicted True\"\u001b[0m\u001b[1;33m]\u001b[0m\u001b[1;33m,\u001b[0m\u001b[1;33m\u001b[0m\u001b[0m\n\u001b[0;32m      5\u001b[0m     \u001b[0mindex\u001b[0m\u001b[1;33m=\u001b[0m\u001b[1;33m[\u001b[0m\u001b[1;34m\"Actual False\"\u001b[0m\u001b[1;33m,\u001b[0m \u001b[1;34m\"Actual True\"\u001b[0m\u001b[1;33m]\u001b[0m\u001b[1;33m\u001b[0m\u001b[0m\n",
      "\u001b[1;31mTypeError\u001b[0m: 'DataFrame' object is not callable"
     ]
    }
   ],
   "source": [
    "get_ipython().magic('matplotlib inline')\n",
    "confusion_matrix = pd.DataFrame(\n",
    "    confusion_matrix(df_test[\"Churn\"], preds), \n",
    "    columns=[\"Predicted False\", \"Predicted True\"], \n",
    "    index=[\"Actual False\", \"Actual True\"]\n",
    ")\n",
    "display(confusion_matrix)\n",
    "\n",
    "# Calculate the fpr and tpr for all thresholds of the classification\n",
    "fpr, tpr, threshold = roc_curve(df_test[\"Churn\"], probs[:,1])\n",
    "plt.title('Receiver Operating Characteristic')\n",
    "plt.plot(fpr, tpr, 'b')\n",
    "plt.plot([0, 1], [0, 1],'r--')\n",
    "plt.xlim([0, 1])\n",
    "plt.ylim([0, 1])\n",
    "plt.ylabel('True Positive Rate')\n",
    "plt.xlabel('False Positive Rate')\n",
    "plt.show()"
   ]
  },
  {
   "cell_type": "code",
   "execution_count": 44,
   "metadata": {},
   "outputs": [
    {
     "name": "stdout",
     "output_type": "stream",
     "text": [
      "[1 0 0 0 1 0 0 0 0 0 0 0 0 0 0 0 0 0 0 0 0 0 0 0 1 0 0 0 0 0 0 0 0 0 0 0 0\n",
      " 0 0 0 0 0 0 0 0 0 0 0 0 0 0 0 0 0 0 0 0 1 0 1 0 0 0 0 0 0 0 0 0 0 0 0 0 0\n",
      " 0 0 0 0 0 0 0 0 0 0 1 0 0 0 0 0 0 0 0 0 0 0 0 1 0 0 1 0 0 0 0 0 0 0 0 0 0\n",
      " 0 1 0 0 1 0 0 0 0 0 0 0 0 0 0 0 0 0 0 0 0 0 1 0 0 0 0 0 0 0 0 0 0 0 0 0 0\n",
      " 0 0 0 0 0 0 0 0 0 0 0 0 0 0 0 0 0 0 0 0 0 0 0 0 0 0 0 0 0 0 0 0 0 0 0 0 0\n",
      " 0 0 0 0 0 0 0 0 0 0 0 0 0 1 0 0 1 0 1 0 1 0 1 0 0 0 0 0 0 1 0 0 0 0 1 0 0\n",
      " 0 0 1 0 0 0 0 0 0 0 0 0 1 0 0 0 0 0 0 0 0 0 0 0 1 1 0 0 0 0 0 0 0 1 0 1 1\n",
      " 0 0 0 0 0 0 0 0 0 0 0 0 1 0 0 1 0 0 0 0 0 1 0 0 0 0 0 0 0 1 0 0 0 1 0 0 0\n",
      " 0 0 0 0 0 0 0 1 0 0 0 0 0 0 0 0 0 0 1 0 0 0 0 0 0 0 0 0 0 0 0 0 0 0 0 0 0\n",
      " 1 0 0 0 0 1 1 0 0 0 0 0 0 0 0 0 0 0 0 0 0 1 0 0 0 0 0 0 0 0 0 0 0 0 0 0 0\n",
      " 0 0 0 0 0 0 1 0 0 0 0 0 0 0 1 0 0 0 1 0 0 0 0 0 0 0 0 0 0 0 0 0 0 0 0 0 1\n",
      " 0 0 0 0 0 0 0 0 0 1 0 0 0 0 0 0 0 0 0 0 0 0 0 0 0 0 0 0 0 0 0 1 0 0 0 0 0\n",
      " 0 0 0 0 0 0 0 0 0 0 0 0 0 0 1 0 0 0 0 0 0 0 0 0 0 0 0 0 0 0 0 0 0 0 0 0 0\n",
      " 0 0 1 0 0 0 0 1 0 0 0 0 0 0 0 0 0 0 1 0 0 0 0 1 0 0 0 0 0 0 0 1 0 0 0 0 1\n",
      " 0 0 0 0 0 0 1 0 0 0 0 0 0 0 0 0 0 0 0 0 0 0 0 0 0 0 0 0 0 0 0 0 0 0 0 0 1\n",
      " 0 0 0 0 0 0 0 0 0 0 0 1 0 0 1 1 0 0 0 0 0 0 0 1 0 0 0 0 0 0 0 0 0 0 0 0 0\n",
      " 0 0 1 0 0 0 0 1 0 0 0 0 0 0 0 0 1 0 1 0 0 0 0 1 0 1 1 0 0 0 0 0 0 0 0 0 0\n",
      " 0 0 0 0 0 0 1 0 0 0 0 0 0 0 0 0 0 0 0 0 0 0 0 0 0 0 0 0 0 0 0 0 0 0 0 0 0\n",
      " 0 0 0 0 0 0 0 0 0 1 1 0 0 0 0 1 1 0 0 1 0 0 0 0 0 0 0 0 0 0 1 0 0 1 1 0 0\n",
      " 1 0 0 1 0 0 0 0 0 1 0 0 0 0 0 0 0 0 0 0 0 0 0 0 0 0 0 0 0 1 0 0 0 0 0 0 0\n",
      " 0 0 0 0 0 1 0 0 0 0 0 0 0 0 0 0 1 0 0 1 0 0 0 0 0 0 0 0 0 0 0 0 0 0 0 0 0\n",
      " 0 0 1 0 0 0 1 0 0 0 0 0 0 1 0 0 0 0 0 1 0 0 0 1 0 1 0 0 0 0 0 0 0 1 0 0 0\n",
      " 0 0 0 1 1 0 0 0 0 0 0 0 0 0 0 0 0 0 1 0]       Account Length  VMail Message  Day Mins  Eve Mins  Night Mins  \\\n",
      "3169              78              0     103.5     117.9       201.0   \n",
      "1724             100              0     115.9     111.3       170.2   \n",
      "2228              80              0     203.7     216.4       154.2   \n",
      "99                77              0     251.8     205.7       275.2   \n",
      "2573             124              0     312.0     180.0       168.6   \n",
      "2546              90              0     157.9     234.0       210.0   \n",
      "2241              56             29      37.7     144.1       226.6   \n",
      "169               32              0     230.9     187.4       154.0   \n",
      "272               49             28     214.4     235.2       206.2   \n",
      "3044             105              0     146.4     225.1       230.1   \n",
      "1253              85              0     197.2     211.7       210.1   \n",
      "1122             159              0     189.1     246.1       242.0   \n",
      "367               45              0      78.2     253.4       255.0   \n",
      "1415              99              0     142.3     204.5       203.1   \n",
      "2836             112              0     101.1     214.4       179.5   \n",
      "178              116              0     173.5     194.1       208.0   \n",
      "1756             118             39     153.8     123.3       117.8   \n",
      "1793              97              0     168.6     259.2       279.8   \n",
      "1556             106              0     178.4     247.0       259.9   \n",
      "2007             102              0     242.2     233.2       188.5   \n",
      "2170              70              0     177.4     226.2       254.1   \n",
      "1004              64             27     201.3     143.8       150.2   \n",
      "1130             122              0      35.1     180.8       251.6   \n",
      "775              106              0     169.4     197.2       202.2   \n",
      "3045              57              0     272.7     224.9       178.2   \n",
      "3020             127             23     182.0     216.1       156.9   \n",
      "1092             148              0     185.2     170.4       165.1   \n",
      "878               62              0     281.0     160.6        77.9   \n",
      "1173             109              0     222.2     218.5       266.0   \n",
      "3006             110              0     178.5     146.9       217.1   \n",
      "...              ...            ...       ...       ...         ...   \n",
      "2710              63              0     261.8     245.0       202.1   \n",
      "1263              40             31     224.7     134.5       120.3   \n",
      "1872              15              0     141.4     123.9       323.5   \n",
      "2655              64              0     219.2     167.0       161.4   \n",
      "1042              91             24      93.5     183.4       240.7   \n",
      "1586              89              0      82.3     167.2       194.7   \n",
      "3301              84              0     280.0     202.2       156.8   \n",
      "1641              54              0     214.1     240.5       188.9   \n",
      "1307             139              0     196.0     186.0       153.0   \n",
      "3307             172              0     203.9     234.0       160.7   \n",
      "1054              50              0     183.6      58.6       202.6   \n",
      "782               35             27     241.7     142.0       288.9   \n",
      "194              118             23     289.5     166.6       119.1   \n",
      "985               64              0     346.8     249.5       275.4   \n",
      "354               64              0     236.2     218.6       194.1   \n",
      "424              112             16     221.6     130.2       200.0   \n",
      "1206              92             25     134.0     206.0       180.6   \n",
      "876              137              0     127.0     323.2       143.9   \n",
      "3281             100              0     185.0     182.5       274.9   \n",
      "2145             105              0     193.7     183.2       293.7   \n",
      "1928             102              0     103.1     275.0       141.1   \n",
      "2287              37              0     271.7     155.1       199.5   \n",
      "2954              57              0     161.0     208.0       208.1   \n",
      "2557             120              0     185.7     235.1       256.4   \n",
      "923                1              0     144.8     112.5       218.7   \n",
      "1411             103              0     166.6     192.4       167.9   \n",
      "597               39              0     160.4     102.6       235.3   \n",
      "2676             138              0     205.9     257.1       209.0   \n",
      "2428              40              0      81.7     210.2       212.0   \n",
      "328               76              0     198.3     217.1       188.4   \n",
      "\n",
      "      Intl Mins  CustServ Calls  Churn  Int'l Plan  VMail Plan  Day Calls  \\\n",
      "3169       12.0               4      1           0           0        115   \n",
      "1724        7.1               1      0           0           0         87   \n",
      "2228        7.6               2      0           0           0         92   \n",
      "99          9.8               2      1           0           0         72   \n",
      "2573       12.8               1      1           0           0        112   \n",
      "2546       12.2               2      0           0           0         72   \n",
      "2241        4.9               1      0           0           1        115   \n",
      "169         6.3               0      0           0           0         87   \n",
      "272         8.0               3      0           0           1         78   \n",
      "3044        8.5               1      0           0           0         81   \n",
      "1253        8.3               4      0           1           0         97   \n",
      "1122       10.4               1      1           0           0        105   \n",
      "367        18.0               1      0           0           0        127   \n",
      "1415        9.1               0      0           0           0         89   \n",
      "2836       10.3               2      0           0           0        119   \n",
      "178        16.2               3      0           0           0         93   \n",
      "1756        9.2               1      0           1           1        106   \n",
      "1793        7.3               1      0           0           0         87   \n",
      "1556        9.6               0      0           0           0        143   \n",
      "2007        6.2               3      0           0           0         88   \n",
      "2170       10.9               0      0           0           0        125   \n",
      "1004       12.3               1      0           0           1        101   \n",
      "1130       12.7               1      0           0           0         62   \n",
      "775        10.7               1      0           0           0        107   \n",
      "3045       10.5               2      1           0           0         74   \n",
      "3020        9.8               1      0           0           1         80   \n",
      "1092        9.5               1      0           0           0         87   \n",
      "878         0.0               1      0           0           0         66   \n",
      "1173       10.9               1      0           0           0        113   \n",
      "3006        9.9               1      0           0           0        124   \n",
      "...         ...             ...    ...         ...         ...        ...   \n",
      "2710       14.7               0      1           0           0         69   \n",
      "1263        7.5               1      1           0           1         69   \n",
      "1872        8.1               2      0           1           0         80   \n",
      "2655       10.0               1      0           0           0         73   \n",
      "1042        9.9               0      0           1           1        112   \n",
      "1586        7.2               1      0           0           0         77   \n",
      "3301       10.4               0      1           0           0        113   \n",
      "1641       10.1               1      0           1           0         77   \n",
      "1307        9.8               3      0           0           0        135   \n",
      "3307       17.8               4      0           0           0        109   \n",
      "1054        8.7               1      0           0           0        107   \n",
      "782         9.4               1      0           0           1         87   \n",
      "194         9.5               1      0           0           1         52   \n",
      "985        13.3               1      1           1           0         55   \n",
      "354        13.2               2      1           1           0         77   \n",
      "424        11.3               1      0           0           1        110   \n",
      "1206        9.7               0      0           0           1        112   \n",
      "876         7.5               1      0           0           0        107   \n",
      "3281        5.1               1      0           0           0        122   \n",
      "2145       10.8               1      0           0           0        108   \n",
      "1928       11.2               1      0           0           0         70   \n",
      "2287        6.6               3      0           0           0        112   \n",
      "2954        8.4               3      0           0           0        113   \n",
      "2557       16.9               0      0           0           0        133   \n",
      "923        13.8               1      0           0           0        107   \n",
      "1411        7.7               1      0           0           0         84   \n",
      "597         9.1               2      0           0           0         68   \n",
      "2676       12.1               0      0           0           0         96   \n",
      "2428       11.3               6      1           0           0        123   \n",
      "328        12.5               0      0           0           0        130   \n",
      "\n",
      "      Day Charge  Eve Calls  Eve Charge  Night Calls  Night Charge  \\\n",
      "3169       17.60        102       10.02           94          9.05   \n",
      "1724       19.70         56        9.46           77          7.66   \n",
      "2228       34.63         97       18.39           66          6.94   \n",
      "99         42.81        126       17.48          109         12.38   \n",
      "2573       53.04        109       15.30           94          7.59   \n",
      "2546       26.84         93       19.89           86          9.45   \n",
      "2241        6.41        111       12.25          101         10.20   \n",
      "169        39.25         90       15.93           53          6.93   \n",
      "272        36.45        100       19.99          107          9.28   \n",
      "3044       24.89         80       19.13          117         10.35   \n",
      "1253       33.52        115       17.99          133          9.45   \n",
      "1122       32.15        147       20.92          106         10.89   \n",
      "367        13.29        108       21.54          100         11.48   \n",
      "1415       24.19         95       17.38          114          9.14   \n",
      "2836       17.19         67       18.22          112          8.08   \n",
      "178        29.50         76       16.50          112          9.36   \n",
      "1756       26.15        111       10.48          103          5.30   \n",
      "1793       28.66        105       22.03          123         12.59   \n",
      "1556       30.33        123       21.00          105         11.70   \n",
      "2007       41.17         89       19.82          121          8.48   \n",
      "2170       30.16        104       19.23           72         11.43   \n",
      "1004       34.22         89       12.22          127          6.76   \n",
      "1130        5.97         89       15.37           58         11.32   \n",
      "775        28.80         71       16.76           79          9.10   \n",
      "3045       46.36         85       19.12          104          8.02   \n",
      "3020       30.94         85       18.37           82          7.06   \n",
      "1092       31.48         96       14.48          104          7.43   \n",
      "878        47.77        108       13.65           74          3.51   \n",
      "1173       37.77        122       18.57           88         11.97   \n",
      "3006       30.35        141       12.49          102          9.77   \n",
      "...          ...        ...         ...          ...           ...   \n",
      "2710       44.51        135       20.83           94          9.09   \n",
      "1263       38.20         81       11.43          104          5.41   \n",
      "1872       24.04         76       10.53           88         14.56   \n",
      "2655       37.26         65       14.20          119          7.26   \n",
      "1042       15.90        128       15.59          133         10.83   \n",
      "1586       13.99         80       14.21           70          8.76   \n",
      "3301       47.60         90       17.19          103          7.06   \n",
      "1641       36.40         94       20.44           75          8.50   \n",
      "1307       33.32        146       15.81           92          6.89   \n",
      "3307       34.66        123       19.89           65          7.23   \n",
      "1054       31.21        118        4.98           99          9.12   \n",
      "782        41.09        101       12.07           68         13.00   \n",
      "194        49.22        111       14.16           88          5.36   \n",
      "985        58.96         79       21.21          102         12.39   \n",
      "354        40.15         85       18.58           97          8.73   \n",
      "424        37.67        123       11.07          108          9.00   \n",
      "1206       22.78        111       17.51          118          8.13   \n",
      "876        21.59         75       27.47          127          6.48   \n",
      "3281       31.45         92       15.51           92         12.37   \n",
      "2145       32.93        124       15.57           72         13.22   \n",
      "1928       17.53        129       23.38           92          6.35   \n",
      "2287       46.19         96       13.18           97          8.98   \n",
      "2954       27.37        134       17.68           81          9.36   \n",
      "2557       31.57        149       19.98           78         11.54   \n",
      "923        24.62         66        9.56           79          9.84   \n",
      "1411       28.32         91       16.35          115          7.56   \n",
      "597        27.27        103        8.72          106         10.59   \n",
      "2676       35.00         94       21.85           63          9.40   \n",
      "2428       13.89        108       17.87           64          9.54   \n",
      "328        33.71         86       18.45           96          8.48   \n",
      "\n",
      "      Intl Calls  Intl Charge  \n",
      "3169           3         3.24  \n",
      "1724           4         1.92  \n",
      "2228           5         2.05  \n",
      "99             7         2.65  \n",
      "2573           4         3.46  \n",
      "2546           5         3.29  \n",
      "2241           3         1.32  \n",
      "169            2         1.70  \n",
      "272           13         2.16  \n",
      "3044           2         2.30  \n",
      "1253           4         2.24  \n",
      "1122           5         2.81  \n",
      "367            3         4.86  \n",
      "1415           1         2.46  \n",
      "2836           5         2.78  \n",
      "178           10         4.37  \n",
      "1756           6         2.48  \n",
      "1793           4         1.97  \n",
      "1556           2         2.59  \n",
      "2007           6         1.67  \n",
      "2170           4         2.94  \n",
      "1004           3         3.32  \n",
      "1130           2         3.43  \n",
      "775            4         2.89  \n",
      "3045           3         2.84  \n",
      "3020           4         2.65  \n",
      "1092          13         2.57  \n",
      "878            0         0.00  \n",
      "1173           5         2.94  \n",
      "3006           7         2.67  \n",
      "...          ...          ...  \n",
      "2710           4         3.97  \n",
      "1263           5         2.03  \n",
      "1872           3         2.19  \n",
      "2655           5         2.70  \n",
      "1042           3         2.67  \n",
      "1586           4         1.94  \n",
      "3301           4         2.81  \n",
      "1641           3         2.73  \n",
      "1307           1         2.65  \n",
      "3307           4         4.81  \n",
      "1054           3         2.35  \n",
      "782            4         2.54  \n",
      "194            4         2.57  \n",
      "985            9         3.59  \n",
      "354            2         3.56  \n",
      "424            3         3.05  \n",
      "1206           4         2.62  \n",
      "876            2         2.03  \n",
      "3281           8         1.38  \n",
      "2145           5         2.92  \n",
      "1928           5         3.02  \n",
      "2287           4         1.78  \n",
      "2954           4         2.27  \n",
      "2557           6         4.56  \n",
      "923            3         3.73  \n",
      "1411           6         2.08  \n",
      "597            5         2.46  \n",
      "2676           8         3.27  \n",
      "2428           3         3.05  \n",
      "328            3         3.38  \n",
      "\n",
      "[834 rows x 18 columns]\n"
     ]
    },
    {
     "ename": "TypeError",
     "evalue": "'DataFrame' object is not callable",
     "output_type": "error",
     "traceback": [
      "\u001b[1;31m---------------------------------------------------------------------------\u001b[0m",
      "\u001b[1;31mTypeError\u001b[0m                                 Traceback (most recent call last)",
      "\u001b[1;32m<ipython-input-44-47b6ef1995c2>\u001b[0m in \u001b[0;36m<module>\u001b[1;34m()\u001b[0m\n\u001b[0;32m      2\u001b[0m \u001b[0mget_ipython\u001b[0m\u001b[1;33m(\u001b[0m\u001b[1;33m)\u001b[0m\u001b[1;33m.\u001b[0m\u001b[0mmagic\u001b[0m\u001b[1;33m(\u001b[0m\u001b[1;34m'matplotlib inline'\u001b[0m\u001b[1;33m)\u001b[0m\u001b[1;33m\u001b[0m\u001b[0m\n\u001b[0;32m      3\u001b[0m confusion_matrix = pd.DataFrame(\n\u001b[1;32m----> 4\u001b[1;33m     \u001b[0mconfusion_matrix\u001b[0m\u001b[1;33m(\u001b[0m\u001b[0mdf_test\u001b[0m\u001b[1;33m[\u001b[0m\u001b[1;34m\"Churn\"\u001b[0m\u001b[1;33m]\u001b[0m\u001b[1;33m,\u001b[0m \u001b[0mpreds\u001b[0m\u001b[1;33m)\u001b[0m\u001b[1;33m,\u001b[0m\u001b[1;33m\u001b[0m\u001b[0m\n\u001b[0m\u001b[0;32m      5\u001b[0m     \u001b[0mcolumns\u001b[0m\u001b[1;33m=\u001b[0m\u001b[1;33m[\u001b[0m\u001b[1;34m\"Predicted False\"\u001b[0m\u001b[1;33m,\u001b[0m \u001b[1;34m\"Predicted True\"\u001b[0m\u001b[1;33m]\u001b[0m\u001b[1;33m,\u001b[0m\u001b[1;33m\u001b[0m\u001b[0m\n\u001b[0;32m      6\u001b[0m     \u001b[0mindex\u001b[0m\u001b[1;33m=\u001b[0m\u001b[1;33m[\u001b[0m\u001b[1;34m\"Actual False\"\u001b[0m\u001b[1;33m,\u001b[0m \u001b[1;34m\"Actual True\"\u001b[0m\u001b[1;33m]\u001b[0m\u001b[1;33m\u001b[0m\u001b[0m\n",
      "\u001b[1;31mTypeError\u001b[0m: 'DataFrame' object is not callable"
     ]
    }
   ],
   "source": [
    "print(preds, df_test)\n",
    "get_ipython().magic('matplotlib inline')\n",
    "confusion_matrix = pd.DataFrame(\n",
    "    confusion_matrix(df_test[\"Churn\"], preds), \n",
    "    columns=[\"Predicted False\", \"Predicted True\"], \n",
    "    index=[\"Actual False\", \"Actual True\"]\n",
    ")\n",
    "print(confusion_matrix)\n",
    "\n"
   ]
  },
  {
   "cell_type": "code",
   "execution_count": 39,
   "metadata": {},
   "outputs": [
    {
     "ename": "NameError",
     "evalue": "name 'DataFrame' is not defined",
     "output_type": "error",
     "traceback": [
      "\u001b[1;31m---------------------------------------------------------------------------\u001b[0m",
      "\u001b[1;31mNameError\u001b[0m                                 Traceback (most recent call last)",
      "\u001b[1;32m<ipython-input-39-be86a8bcaa5e>\u001b[0m in \u001b[0;36m<module>\u001b[1;34m()\u001b[0m\n\u001b[1;32m----> 1\u001b[1;33m \u001b[0mDataFrame\u001b[0m\u001b[1;33m\u001b[0m\u001b[0m\n\u001b[0m",
      "\u001b[1;31mNameError\u001b[0m: name 'DataFrame' is not defined"
     ]
    }
   ],
   "source": [
    "DataFrame"
   ]
  },
  {
   "cell_type": "code",
   "execution_count": 47,
   "metadata": {},
   "outputs": [
    {
     "data": {
      "text/html": [
       "<div>\n",
       "<style scoped>\n",
       "    .dataframe tbody tr th:only-of-type {\n",
       "        vertical-align: middle;\n",
       "    }\n",
       "\n",
       "    .dataframe tbody tr th {\n",
       "        vertical-align: top;\n",
       "    }\n",
       "\n",
       "    .dataframe thead th {\n",
       "        text-align: right;\n",
       "    }\n",
       "</style>\n",
       "<table border=\"1\" class=\"dataframe\">\n",
       "  <thead>\n",
       "    <tr style=\"text-align: right;\">\n",
       "      <th></th>\n",
       "      <th>importance</th>\n",
       "      <th>labels</th>\n",
       "    </tr>\n",
       "  </thead>\n",
       "  <tbody>\n",
       "    <tr>\n",
       "      <th>2</th>\n",
       "      <td>0.151713</td>\n",
       "      <td>Day Mins</td>\n",
       "    </tr>\n",
       "    <tr>\n",
       "      <th>10</th>\n",
       "      <td>0.142447</td>\n",
       "      <td>Day Charge</td>\n",
       "    </tr>\n",
       "    <tr>\n",
       "      <th>6</th>\n",
       "      <td>0.125607</td>\n",
       "      <td>CustServ Calls</td>\n",
       "    </tr>\n",
       "    <tr>\n",
       "      <th>7</th>\n",
       "      <td>0.090853</td>\n",
       "      <td>Int'l Plan</td>\n",
       "    </tr>\n",
       "    <tr>\n",
       "      <th>3</th>\n",
       "      <td>0.063591</td>\n",
       "      <td>Eve Mins</td>\n",
       "    </tr>\n",
       "  </tbody>\n",
       "</table>\n",
       "</div>"
      ],
      "text/plain": [
       "    importance          labels\n",
       "2     0.151713        Day Mins\n",
       "10    0.142447      Day Charge\n",
       "6     0.125607  CustServ Calls\n",
       "7     0.090853      Int'l Plan\n",
       "3     0.063591        Eve Mins"
      ]
     },
     "metadata": {},
     "output_type": "display_data"
    },
    {
     "data": {
      "image/png": "[encoded data removed]",
      "text/plain": [
       "<Figure size 1440x1296 with 1 Axes>"
      ]
     },
     "metadata": {},
     "output_type": "display_data"
    }
   ],
   "source": [
    "import numpy as np\n",
    "fig = plt.figure(figsize=(20,18))\n",
    "ax = fig.add_subplot(111)\n",
    "\n",
    "df_f = pd.DataFrame(model.feature_importances_,columns=['importance'])\n",
    "df_f['labels'] = features\n",
    "df_f.sort_values('importance', inplace=True, ascending=False)\n",
    "display(df_f.head(5))\n",
    "\n",
    "index = np.arange(len(model.feature_importances_))\n",
    "bar_width = 0.5\n",
    "rects = plt.barh(index, df_f['importance'],bar_width,alpha=0.4,color='b',label='Main')\n",
    "plt.yticks(index, df_f['labels'])\n",
    "plt.show()"
   ]
  },
  {
   "cell_type": "code",
   "execution_count": 53,
   "metadata": {},
   "outputs": [
    {
     "name": "stdout",
     "output_type": "stream",
     "text": [
      "      prob_true\n",
      "3132   0.960830\n",
      "2210   0.918730\n",
      "2103   0.950928\n",
      "3272   0.948885\n",
      "629    0.907669\n"
     ]
    },
    {
     "name": "stderr",
     "output_type": "stream",
     "text": [
      "C:\\ProgramData\\Anaconda3\\lib\\site-packages\\ipykernel_launcher.py:1: SettingWithCopyWarning: \n",
      "A value is trying to be set on a copy of a slice from a DataFrame.\n",
      "Try using .loc[row_indexer,col_indexer] = value instead\n",
      "\n",
      "See the caveats in the documentation: http://pandas.pydata.org/pandas-docs/stable/indexing.html#indexing-view-versus-copy\n",
      "  \"\"\"Entry point for launching an IPython kernel.\n"
     ]
    },
    {
     "data": {
      "text/plain": [
       "pandas.core.frame.DataFrame"
      ]
     },
     "execution_count": 53,
     "metadata": {},
     "output_type": "execute_result"
    }
   ],
   "source": [
    "df_test['prob_true']=probs[:,1]\n",
    "df_risky = df_test[df_test['prob_true']>0.9]\n",
    "print(df_risky.head(5)[['prob_true']])\n",
    "type(df_risky)"
   ]
  },
  {
   "cell_type": "code",
   "execution_count": null,
   "metadata": {},
   "outputs": [],
   "source": []
  }
 ],
 "metadata": {
  "kernelspec": {
   "display_name": "Python 3",
   "language": "python",
   "name": "python3"
  },
  "language_info": {
   "codemirror_mode": {
    "name": "ipython",
    "version": 3
   },
   "file_extension": ".py",
   "mimetype": "text/x-python",
   "name": "python",
   "nbconvert_exporter": "python",
   "pygments_lexer": "ipython3",
   "version": "3.6.5"
  }
 },
 "nbformat": 4,
 "nbformat_minor": 2
}
