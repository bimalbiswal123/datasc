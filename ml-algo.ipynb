{
 "cells": [
  {
   "cell_type": "code",
   "execution_count": 2,
   "metadata": {},
   "outputs": [
    {
     "name": "stdout",
     "output_type": "stream",
     "text": [
      "R-squared:0.6620\n",
      "MSE: 3.839620\n"
     ]
    }
   ],
   "source": [
    "from sklearn.linear_model import LinearRegression\n",
    "from sklearn.metrics import mean_squared_error\n",
    "x_train = [[6],[8],[10],[14],[18]]\n",
    "y_train = [[7],[9],[13],[17.5],[18]]\n",
    "x_test = [[8],[9],[11],[16],[12]]\n",
    "y_test =[[11],[8.5],[15],[18],[11]]\n",
    "\n",
    "model = LinearRegression()\n",
    "lm=model.fit(x_train,y_train)\n",
    "y_pred = lm.predict(x_test)\n",
    "mean_squared_error(y_test,y_pred)\n",
    "print('R-squared:%.4f'%model.score(x_test,y_test))\n",
    "print('MSE: %4f'%mean_squared_error(y_test,y_pred))"
   ]
  },
  {
   "cell_type": "markdown",
   "metadata": {},
   "source": [
    "#Boston Data Set Information:\n",
    "#Concerns housing values in suburbs of Boston.\n",
    "\n",
    "Attribute Information:\n",
    "1. CRIM: per capita crime rate by town \n",
    "2. ZN: proportion of residential land zoned for lots over 25,000 sq.ft. \n",
    "3. INDUS: proportion of non-retail business acres per town \n",
    "4. CHAS: Charles River dummy variable (= 1 if tract bounds river; 0 otherwise) \n",
    "5. NOX: nitric oxides concentration (parts per 10 million) \n",
    "6. RM: average number of rooms per dwelling \n",
    "7. AGE: proportion of owner-occupied units built prior to 1940 \n",
    "8. DIS: weighted distances to five Boston employment centres \n",
    "9. RAD: index of accessibility to radial highways \n",
    "10. TAX: full-value property-tax rate per $10,000 \n",
    "11. PTRATIO: pupil-teacher ratio by town \n",
    "12. B: 1000(Bk - 0.63)^2 where Bk is the proportion of blacks by town \n",
    "13. LSTAT: % lower status of the population \n",
    "14. MEDV: Median value of owner-occupied homes in $1000's\n",
    "    "
   ]
  },
  {
   "cell_type": "code",
   "execution_count": 7,
   "metadata": {},
   "outputs": [
    {
     "data": {
      "text/plain": [
       "sklearn.utils.Bunch"
      ]
     },
     "execution_count": 7,
     "metadata": {},
     "output_type": "execute_result"
    }
   ],
   "source": [
    "from sklearn.linear_model import LinearRegression, Lasso, Ridge, ElasticNet\n",
    "from sklearn import cross_validation\n",
    "from sklearn.datasets import load_boston\n",
    "\n",
    "boston = load_boston()\n",
    "\n",
    "type(boston)\n"
   ]
  },
  {
   "cell_type": "code",
   "execution_count": 8,
   "metadata": {},
   "outputs": [
    {
     "data": {
      "text/plain": [
       "array(['CRIM', 'ZN', 'INDUS', 'CHAS', 'NOX', 'RM', 'AGE', 'DIS', 'RAD',\n",
       "       'TAX', 'PTRATIO', 'B', 'LSTAT'], dtype='<U7')"
      ]
     },
     "execution_count": 8,
     "metadata": {},
     "output_type": "execute_result"
    }
   ],
   "source": [
    "boston.feature_names"
   ]
  },
  {
   "cell_type": "code",
   "execution_count": 11,
   "metadata": {},
   "outputs": [
    {
     "name": "stdout",
     "output_type": "stream",
     "text": [
      "(506, 13) (506,)\n"
     ]
    }
   ],
   "source": [
    "print(boston.data.shape,\n",
    "boston.target.shape)"
   ]
  },
  {
   "cell_type": "code",
   "execution_count": 12,
   "metadata": {},
   "outputs": [
    {
     "data": {
      "text/plain": [
       "(array([ 21.,  55.,  82., 154.,  84.,  41.,  30.,   8.,  10.,  21.]),\n",
       " array([ 5. ,  9.5, 14. , 18.5, 23. , 27.5, 32. , 36.5, 41. , 45.5, 50. ]),\n",
       " <a list of 10 Patch objects>)"
      ]
     },
     "execution_count": 12,
     "metadata": {},
     "output_type": "execute_result"
    },
    {
     "data": {
      "image/png": "[encoded data removed]",
      "text/plain": [
       "<Figure size 432x288 with 1 Axes>"
      ]
     },
     "metadata": {},
     "output_type": "display_data"
    }
   ],
   "source": [
    "import matplotlib.pyplot as plt\n",
    "%matplotlib inline\n",
    "plt.hist(boston.target)"
   ]
  },
  {
   "cell_type": "code",
   "execution_count": 13,
   "metadata": {},
   "outputs": [],
   "source": [
    "import numpy as np\n",
    "np.set_printoptions(precision=2, linewidth=120, suppress=True, edgeitems=4)"
   ]
  },
  {
   "cell_type": "code",
   "execution_count": 14,
   "metadata": {},
   "outputs": [],
   "source": [
    "x = boston.data\n",
    "y = boston.target\n"
   ]
  },
  {
   "cell_type": "code",
   "execution_count": 22,
   "metadata": {},
   "outputs": [
    {
     "name": "stdout",
     "output_type": "stream",
     "text": [
      "method name: lm\n",
      "R squared 10fold avg: 0.7421\n",
      "RMSE 10fold avg: 3.3116\n",
      "coefficient: [ -0.1    0.05   0.03   2.52 -17.66   3.81   0.01  -1.44   0.36  -0.02  -0.91   0.01  -0.56]\n",
      "intercept: 35.595712943654206\n",
      "\n",
      "\n",
      "method name: lasso\n",
      "R squared 10fold avg: 0.7243\n",
      "RMSE 10fold avg: 3.6288\n",
      "coefficient: [-0.09  0.05 -0.02  0.   -0.    3.14  0.01 -1.07  0.34 -0.02 -0.72  0.01 -0.64]\n",
      "intercept: 28.8544891436672\n",
      "\n",
      "\n",
      "method name: ridge\n",
      "R squared 10fold avg: 0.7417\n",
      "RMSE 10fold avg: 3.3314\n",
      "coefficient: [ -0.1    0.05   0.02   2.48 -14.42   3.83   0.01  -1.4    0.36  -0.02  -0.87   0.01  -0.56]\n",
      "intercept: 33.49182281386835\n",
      "\n",
      "\n",
      "method name: elastic-net\n",
      "R squared 10fold avg: 0.7190\n",
      "RMSE 10fold avg: 3.7083\n",
      "coefficient: [-0.09  0.06 -0.04  0.12 -0.    2.36  0.01 -1.11  0.38 -0.02 -0.76  0.01 -0.69]\n",
      "intercept: 35.54466167753162\n",
      "\n",
      "\n"
     ]
    }
   ],
   "source": [
    "from sklearn.metrics import mean_squared_error\n",
    "a=0.3\n",
    "for name,method in [('lm', LinearRegression()),\n",
    "                   ('lasso', Lasso(fit_intercept=True,alpha=a)),\n",
    "                   ('ridge', Ridge(fit_intercept=True,alpha=a)),\n",
    "                   ('elastic-net', ElasticNet(fit_intercept=True,alpha=a))]:\n",
    "    cv = cross_validation.KFold(len(x), n_folds=10)\n",
    "    \n",
    "    for train,test in cv:\n",
    "        method.fit(x[train],y[train])\n",
    "        rsq = method.score(x[train], y[train])\n",
    "        y_pred = method.predict(x[test])\n",
    "        MSE = mean_squared_error(y[test], y_pred)\n",
    "        RMSE = np.sqrt(MSE)\n",
    "    rmse_10cv= np.average(RMSE)\n",
    "    rsq_10cv = np.average(rsq)\n",
    "    print(\"method name:\",name)\n",
    "    print (\"R squared 10fold avg: %.4f\"%rsq_10cv)\n",
    "    print (\"RMSE 10fold avg: %.4f\"%rmse_10cv)\n",
    "    print('coefficient:', method.coef_)\n",
    "    print('intercept:', method.intercept_)\n",
    "    print('\\n')\n",
    "    \n"
   ]
  },
  {
   "cell_type": "code",
   "execution_count": 24,
   "metadata": {},
   "outputs": [
    {
     "data": {
      "text/plain": [
       "['Boston_regression.pkl']"
      ]
     },
     "execution_count": 24,
     "metadata": {},
     "output_type": "execute_result"
    }
   ],
   "source": [
    "lm = LinearRegression()\n",
    "cv = cross_validation.KFold(len(x), n_folds=10)\n",
    "for train, test in cv:\n",
    "    lm.fit(x[train],y[train])\n",
    "from sklearn.externals import joblib\n",
    "joblib.dump(model, 'Boston_regression.pkl')"
   ]
  },
  {
   "cell_type": "code",
   "execution_count": 25,
   "metadata": {},
   "outputs": [
    {
     "data": {
      "text/plain": [
       "sklearn.linear_model.base.LinearRegression"
      ]
     },
     "execution_count": 25,
     "metadata": {},
     "output_type": "execute_result"
    }
   ],
   "source": [
    "type(model)"
   ]
  },
  {
   "cell_type": "code",
   "execution_count": 27,
   "metadata": {},
   "outputs": [
    {
     "data": {
      "text/plain": [
       "array([29.93, 25.32, 30.84, 28.9 , 28.25, 25.61, 22.99, 19.63, 11.32, 18.99, 19.04, 21.74, 20.51, 19.75, 19.62, 19.43,\n",
       "       20.44, 17.08, 15.91, 18.55, 12.64, 17.94, 15.98, 14.  , 15.93, 13.5 , 15.73, 14.83, 19.91, 21.19, 11.49, 18.46,\n",
       "        8.48, 14.44, 13.75, 24.02, 22.41, 23.1 , 22.74, 31.44, 34.32, 27.8 , 24.99, 24.35, 22.94, 22.  , 20.2 , 18.21,\n",
       "        9.01, 17.24, 21.29, 24.27, 27.67, 23.97, 14.9 , 31.55, 24.9 , 33.52, 22.07, 21.45, 18.32, 19.16, 24.65, 22.92,\n",
       "       23.82, 30.16, 25.29, 20.77, 17.08, 20.54, 24.86, 21.41, 24.27, 23.67, 24.9 , 23.68, 22.84, 23.02, 20.98, 22.06,\n",
       "       28.46, 27.35, 26.03, 25.17, 24.79, 27.95, 22.02, 25.98, 30.97, 30.89, 27.09, 27.48, 29.17, 29.13, 27.43, 28.56,\n",
       "       24.65, 36.  , 34.96, 32.27, 24.66, 25.64, 19.68, 20.34, 21.51, 18.54, 17.07, 20.7 , 22.8 , 19.76, 20.36, 26.4 ,\n",
       "       20.55, 20.5 , 25.04, 20.15, 23.1 , 23.57, 19.91, 20.39, 22.3 , 22.99, 21.05, 16.66, 21.09, 23.03, 14.82, 15.09,\n",
       "       18.94, 13.94, 20.14, 19.52, 20.2 , 15.76, 13.13, 17.22, 15.78, 19.39, 13.62, 16.34, 13.24,  3.4 , 13.98, 11.72,\n",
       "        8.18, 11.42, 15.55,  7.94,  9.14, 14.45, 20.75, 18.24, 19.81, 17.09, 22.03, 19.5 , 13.26, 33.45, 29.17, 25.72,\n",
       "       32.63, 37.  , 40.69, 41.9 , 24.74, 25.3 , 37.42, 22.79, 26.34, 26.61, 22.38, 24.26, 23.02, 29.25, 26.53, 30.52,\n",
       "       25.43, 29.32, 31.59, 33.22, 35.18, 27.95, 34.52, 31.64, 23.05, 24.92, 36.16, 33.02, 31.98, 34.16, 30.31, 29.95,\n",
       "       32.59, 31.79, 31.33, 40.96, 35.89, 32.29, 34.43, 29.71, 30.24, 28.98, 36.68, 42.29, 43.46, 22.4 , 23.71, 17.86,\n",
       "       23.29, 16.94, 22.43, 16.84, 22.42, 25.07, 10.08, 24.47, 26.38, 28.73, 24.93, 29.93, 33.41, 23.67, 32.27, 30.15,\n",
       "       38.84, 40.31, 38.18, 32.81, 35.33, 31.16, 24.64, 33.73, 38.56, 37.58, 31.78, 25.38, 30.26, 33.15, 28.29, 28.5 ,\n",
       "       27.37, 23.89, 24.2 , 27.22, 16.69, 13.52, 20.08, 20.33, 21.47, 24.05, 24.13, 24.99, 24.91, 29.97, 23.87, 21.39,\n",
       "       37.77, 43.62, 36.85, 35.39, 34.95, 37.46, 41.35, 34.66, 36.11, 28.16, 31.23, 40.9 , 39.39, 25.67, 22.28, 27.13,\n",
       "       28.81, 35.59, 36.08, 34.06, 35.69, 34.77, 30.37, 35.38, 39.24, 34.5 , 40.5 , 44.57, 31.34, 27.05, 20.04, 27.14,\n",
       "       27.44, 26.84, 33.75, 34.71, 32.06, 25.52, 24.31, 28.38, 27.44, 19.44, 28.85, 31.56, 30.77, 28.88, 28.61, 32.65,\n",
       "       33.55, 31.19, 36.19, 33.29, 29.04, 23.75, 18.18, 26.91, 23.51, 25.83, 25.79, 20.69, 17.61, 18.33, 24.36, 21.25,\n",
       "       25.06, 25.08, 23.01, 19.71, 25.21, 24.57, 23.69, 19.29, 20.35, 23.43, 20.88, 19.53, 22.96, 22.49, 21.88, 20.85,\n",
       "       20.42, 19.67, 22.36, 21.49, 21.81, 30.27, 21.46, 27.74, 28.4 , 16.32, 14.52, 25.25, 27.69, 22.01, 20.42, 20.43,\n",
       "       16.53, 26.17, 14.43, 16.75, 19.73, 22.89, 22.37, 19.47, 23.14, 19.21, 18.69, 20.29, 37.78, 14.71, 15.78, 11.07,\n",
       "       24.47, 33.1 , 35.11, 25.42, 26.21,  5.85,  0.42, 25.71, 17.76, 20.37, 15.92, 16.99, 14.83, 18.65, 13.51, 13.11,\n",
       "        3.02,  7.92,  6.11,  5.38,  6.32, 14.37, 17.47, 17.36,  9.9 , 20.5 , 18.22, 20.58, 19.47, 16.52,  6.51, 10.52,\n",
       "       11.92, 18.02, 18.44, 13.2 ,  7.26,  8.49,  8.16, 20.38, 13.61, 19.92, 15.6 , 16.9 ,  1.25, 11.93, -4.69,  9.3 ,\n",
       "       13.07,  6.66,  6.3 , 14.29, 19.92, 18.37, 18.73, 12.87, 14.37,  9.72, 16.05, 14.09, 14.01, 12.87, 18.1 , 18.66,\n",
       "       21.54, 17.06, 16.11, 13.26, 14.52,  8.61,  4.33, 13.13, 12.82, 17.5 , 19.05, 18.31, 11.49, 11.8 , 17.88, 18.43,\n",
       "       17.79, 17.39, 16.5 , 19.66, 18.8 , 22.8 , 15.25, 15.74, 12.58, 12.77, 17.3 , 18.76, 19.2 , 20.44, 20.03, 22.87,\n",
       "       20.43, 17.74, 14.3 , 17.02, 16.99, 18.57, 20.35, 23.33, 22.6 , 25.71, 16.59, 16.1 , 20.72, 11.56, 19.44, 22.17,\n",
       "       23.65, 27.47, 28.99, 21.04, 19.31, 22.29, 19.86, 21.35, 10.88,  7.09,  2.33, 12.84, 15.02, 20.34, 20.16, 16.18,\n",
       "       13.64, 18.94, 21.09, 18.26, 20.37, 23.66, 22.59, 28.09, 26.55, 22.65])"
      ]
     },
     "execution_count": 27,
     "metadata": {},
     "output_type": "execute_result"
    }
   ],
   "source": [
    "import pandas as pd\n",
    "df = pd.read_excel(r'boston_X.xls', sheet_name='boston.csv')\n",
    "lm.predict(df)"
   ]
  },
  {
   "cell_type": "code",
   "execution_count": 28,
   "metadata": {},
   "outputs": [
    {
     "data": {
      "text/plain": [
       "['Boston_regression.pkl']"
      ]
     },
     "execution_count": 28,
     "metadata": {},
     "output_type": "execute_result"
    }
   ],
   "source": [
    "joblib.dump(lm, 'Boston_regression.pkl')"
   ]
  },
  {
   "cell_type": "code",
   "execution_count": null,
   "metadata": {},
   "outputs": [],
   "source": []
  }
 ],
 "metadata": {
  "kernelspec": {
   "display_name": "Python 3",
   "language": "python",
   "name": "python3"
  },
  "language_info": {
   "codemirror_mode": {
    "name": "ipython",
    "version": 3
   },
   "file_extension": ".py",
   "mimetype": "text/x-python",
   "name": "python",
   "nbconvert_exporter": "python",
   "pygments_lexer": "ipython3",
   "version": "3.6.5"
  }
 },
 "nbformat": 4,
 "nbformat_minor": 2
}
